{
 "cells": [
  {
   "cell_type": "markdown",
   "metadata": {},
   "source": [
    "## connecting to mysql through ssh tunnel and a proxyhost"
   ]
  },
  {
   "cell_type": "code",
   "execution_count": 1,
   "metadata": {
    "ExecuteTime": {
     "end_time": "2020-05-18T22:50:29.447529Z",
     "start_time": "2020-05-18T22:50:28.517664Z"
    }
   },
   "outputs": [],
   "source": [
    "from sshtunnel import SSHTunnelForwarder\n",
    "import os\n",
    "import pandas as pd\n",
    "import numpy as np\n",
    "import csv\n",
    "import mysql.connector\n",
    "from mysql.connector.constants import ClientFlag\n",
    "from secureconfig import SecureConfigParser, SecureConfigException, zeromem\n",
    "import datetime\n",
    "from IPython.display import display, HTML\n"
   ]
  },
  {
   "cell_type": "markdown",
   "metadata": {},
   "source": [
    "### Connection credentials are stored in a secure config format with passwords encrypted\n",
    "\n",
    "    configpath = os.path.expanduser('~/config.ini')\n",
    "\n",
    "The master key is stored in a hidden directory. \n",
    "\n",
    "    key_path = os.path.expanduser('~/.keys/db.key')\n",
    "\n",
    "The config.ini file can contain credentials for many environments and is organized like Microsoft Windows INI files with passwords being encrypted. This could be modified to encrypt usernames and ip addresses if needed.\n",
    "\n",
    "### setup  config.ini file\n",
    "\n",
    "    using an editor configure a section labeling each section using [section]\n",
    "    add required attributes \n",
    "    \n",
    "    [section]\n",
    "    dbusername = <username>\n",
    "    dbport = 3306\n",
    "    dbhost = <dbhost>\n",
    "    proxy_host = <proxyhost>\n",
    "    proxy_port = 22\n",
    "    proxy_user = <ssh user with passwordless login>\n",
    "    dbschema = <default schema>\n",
    "    dbpassword = \n",
    "    \n",
    "    \n",
    "    Run secrets_config_editor.py to add the encrypted secrets \n",
    "    ./secrets_config_editor.py set --section=<section> --config=~/config.ini --key=~/.keys/db.key\n",
    "\n",
    "\n",
    "\n",
    "### Note:\n",
    "\n",
    "MacOS RSA keys don't work with paramiko. The workaround is to create an RSA key on linux and copy to the mac and use for ssh_pkey\n",
    "\n",
    "If you are getting strange errors from secureconfig this snippet to help debug\n",
    "\n",
    "\n",
    "    import paramiko\n",
    "\n",
    "    pkey='/Users/markgruenberg/keys/id_rsa'\n",
    "    key=paramiko.RSAKey.from_private_key_file(pkey) \n",
    "\n"
   ]
  },
  {
   "cell_type": "code",
   "execution_count": null,
   "metadata": {
    "ExecuteTime": {
     "end_time": "2020-05-18T20:24:02.052691Z",
     "start_time": "2020-05-18T20:24:01.912931Z"
    }
   },
   "outputs": [],
   "source": [
    "# use to view the config.ini file\n",
    "\n",
    "! cat ~/config.ini"
   ]
  },
  {
   "cell_type": "code",
   "execution_count": 2,
   "metadata": {
    "ExecuteTime": {
     "end_time": "2020-05-18T22:50:48.443247Z",
     "start_time": "2020-05-18T22:50:42.698320Z"
    }
   },
   "outputs": [
    {
     "name": "stdout",
     "output_type": "stream",
     "text": [
      "57141\n",
      "[(u'autocommit', u'ON')]\n"
     ]
    }
   ],
   "source": [
    "configpath = os.path.expanduser('~/config.ini')\n",
    "key_path = os.path.expanduser('~/.keys/db.key')\n",
    "\n",
    "\n",
    "scfg = SecureConfigParser.from_file(key_path)\n",
    "scfg.read(configpath)\n",
    "section = 'uweee_dev'\n",
    "\n",
    "with SSHTunnelForwarder(\n",
    "    (scfg.get(section, 'proxy_host'), int(scfg.get(section, 'proxy_port'))),\n",
    "    ssh_username = scfg.get(section, 'proxy_user'),\n",
    "    ssh_pkey=\"/Users/markgruenberg/keys/id_rsa\",\n",
    "    remote_bind_address = (scfg.get(section, 'dbhost'), int(scfg.get(section, 'dbport')))\n",
    ") as tunnel:\n",
    "\n",
    "    config = {\n",
    "        'user': scfg.get(section, 'dbusername'),\n",
    "        'password': scfg.get(section, 'dbpassword'),\n",
    "        'host': tunnel.tunnel_bindings.keys()[0][0],\n",
    "        'port': tunnel.tunnel_bindings.keys()[0][1],\n",
    "        'database': scfg.get(section, 'dbschema'),\n",
    "        'autocommit': True\n",
    "    }\n",
    "    print(tunnel.local_bind_port)\n",
    "\n",
    "    cnx = mysql.connector.connect(**config)\n",
    "    # zero out memory\n",
    "    zeromem(config['password'])\n",
    "    \n",
    "\n",
    "\n",
    "cur = cnx.cursor(buffered=True)\n",
    "cur.execute(\"show variables like 'autocommit'\")\n",
    "print(cur.fetchall())\n",
    "\n"
   ]
  },
  {
   "cell_type": "code",
   "execution_count": 3,
   "metadata": {
    "ExecuteTime": {
     "end_time": "2020-05-18T22:50:58.179554Z",
     "start_time": "2020-05-18T22:50:57.943351Z"
    }
   },
   "outputs": [],
   "source": [
    "sql = \"\"\"\n",
    "WITH possible_fk_columns AS\n",
    "    (\n",
    "    SELECT table_schema, TABLE_NAME,column_name FROM information_schema.columns WHERE (column_name LIKE 'fk_%' OR column_name LIKE '%_id')\n",
    "    )\n",
    "SELECT for_table_schema, TABLE_NAME, column_name, fk_name, for_table, ref_table, for_columns, ref_columns\n",
    "FROM possible_fk_columns p\n",
    "LEFT JOIN dbadmin.foreign_keys f\n",
    "    ON p.table_name=f.for_table AND p.column_name=for_columns AND p.table_schema=f.for_table_schema\n",
    "WHERE\n",
    "    f.for_table_schema='uweee'\n",
    "\"\"\"\n",
    "\n",
    "df = pd.read_sql(sql,cnx)\n"
   ]
  },
  {
   "cell_type": "code",
   "execution_count": 4,
   "metadata": {
    "ExecuteTime": {
     "end_time": "2020-05-18T22:52:15.905619Z",
     "start_time": "2020-05-18T22:52:15.869439Z"
    }
   },
   "outputs": [
    {
     "data": {
      "text/html": [
       "<table border=\"1\" class=\"dataframe\">\n",
       "  <thead>\n",
       "    <tr style=\"text-align: right;\">\n",
       "      <th></th>\n",
       "      <th>TABLE_NAME</th>\n",
       "      <th>COLUMN_NAME</th>\n",
       "      <th>ref_table</th>\n",
       "      <th>for_columns</th>\n",
       "      <th>ref_columns</th>\n",
       "    </tr>\n",
       "  </thead>\n",
       "  <tbody>\n",
       "    <tr>\n",
       "      <th>19</th>\n",
       "      <td>campaignmonths_clientpaymentsubscriptions</td>\n",
       "      <td>campaignmonth_id</td>\n",
       "      <td>campaign_months</td>\n",
       "      <td>campaignmonth_id</td>\n",
       "      <td>id</td>\n",
       "    </tr>\n",
       "    <tr>\n",
       "      <th>20</th>\n",
       "      <td>campaignmonths_clientpaymentsubscriptions</td>\n",
       "      <td>client_payment_subscription_id</td>\n",
       "      <td>client_payment_subscriptions</td>\n",
       "      <td>client_payment_subscription_id</td>\n",
       "      <td>id</td>\n",
       "    </tr>\n",
       "    <tr>\n",
       "      <th>0</th>\n",
       "      <td>addresses</td>\n",
       "      <td>fk_address_types</td>\n",
       "      <td>address_types</td>\n",
       "      <td>fk_address_types</td>\n",
       "      <td>id</td>\n",
       "    </tr>\n",
       "    <tr>\n",
       "      <th>29</th>\n",
       "      <td>clients</td>\n",
       "      <td>fk_addresses</td>\n",
       "      <td>addresses</td>\n",
       "      <td>fk_addresses</td>\n",
       "      <td>id</td>\n",
       "    </tr>\n",
       "    <tr>\n",
       "      <th>2</th>\n",
       "      <td>admin_notifications</td>\n",
       "      <td>fk_admin_notification_types</td>\n",
       "      <td>admin_notification_types</td>\n",
       "      <td>fk_admin_notification_types</td>\n",
       "      <td>id</td>\n",
       "    </tr>\n",
       "    <tr>\n",
       "      <th>4</th>\n",
       "      <td>admin_notifications</td>\n",
       "      <td>fk_admin_notification_types</td>\n",
       "      <td>admin_notification_types</td>\n",
       "      <td>fk_admin_notification_types</td>\n",
       "      <td>id</td>\n",
       "    </tr>\n",
       "    <tr>\n",
       "      <th>38</th>\n",
       "      <td>ftp_zip_campaign_month_historys</td>\n",
       "      <td>fk_art</td>\n",
       "      <td>arts</td>\n",
       "      <td>fk_art</td>\n",
       "      <td>id</td>\n",
       "    </tr>\n",
       "    <tr>\n",
       "      <th>8</th>\n",
       "      <td>art_files</td>\n",
       "      <td>fk_art_file_types</td>\n",
       "      <td>art_file_types</td>\n",
       "      <td>fk_art_file_types</td>\n",
       "      <td>id</td>\n",
       "    </tr>\n",
       "    <tr>\n",
       "      <th>9</th>\n",
       "      <td>art_files</td>\n",
       "      <td>fk_art_folders</td>\n",
       "      <td>art_folders</td>\n",
       "      <td>fk_art_folders</td>\n",
       "      <td>id</td>\n",
       "    </tr>\n",
       "    <tr>\n",
       "      <th>13</th>\n",
       "      <td>art_templates</td>\n",
       "      <td>fk_art_template_types</td>\n",
       "      <td>art_template_types</td>\n",
       "      <td>fk_art_template_types</td>\n",
       "      <td>id</td>\n",
       "    </tr>\n",
       "    <tr>\n",
       "      <th>11</th>\n",
       "      <td>art_folder_mappings</td>\n",
       "      <td>fk_artfolders_child</td>\n",
       "      <td>art_folders</td>\n",
       "      <td>fk_artfolders_child</td>\n",
       "      <td>id</td>\n",
       "    </tr>\n",
       "    <tr>\n",
       "      <th>10</th>\n",
       "      <td>art_files</td>\n",
       "      <td>fk_arts</td>\n",
       "      <td>arts</td>\n",
       "      <td>fk_arts</td>\n",
       "      <td>id</td>\n",
       "    </tr>\n",
       "    <tr>\n",
       "      <th>35</th>\n",
       "      <td>ftp_zip_campaign_historys</td>\n",
       "      <td>fk_campaign</td>\n",
       "      <td>campaigns</td>\n",
       "      <td>fk_campaign</td>\n",
       "      <td>id</td>\n",
       "    </tr>\n",
       "    <tr>\n",
       "      <th>16</th>\n",
       "      <td>campaign_packages</td>\n",
       "      <td>fk_campaign_frequency_types</td>\n",
       "      <td>campaign_frequency_types</td>\n",
       "      <td>fk_campaign_frequency_types</td>\n",
       "      <td>id</td>\n",
       "    </tr>\n",
       "    <tr>\n",
       "      <th>23</th>\n",
       "      <td>campaigns</td>\n",
       "      <td>fk_campaign_lists</td>\n",
       "      <td>campaign_lists</td>\n",
       "      <td>fk_campaign_lists</td>\n",
       "      <td>id</td>\n",
       "    </tr>\n",
       "    <tr>\n",
       "      <th>37</th>\n",
       "      <td>ftp_zip_campaign_month_historys</td>\n",
       "      <td>fk_campaign_month</td>\n",
       "      <td>campaign_months</td>\n",
       "      <td>fk_campaign_month</td>\n",
       "      <td>id</td>\n",
       "    </tr>\n",
       "    <tr>\n",
       "      <th>24</th>\n",
       "      <td>campaigns</td>\n",
       "      <td>fk_campaign_packages</td>\n",
       "      <td>campaign_packages</td>\n",
       "      <td>fk_campaign_packages</td>\n",
       "      <td>id</td>\n",
       "    </tr>\n",
       "    <tr>\n",
       "      <th>15</th>\n",
       "      <td>campaign_months</td>\n",
       "      <td>fk_campaign_quarters</td>\n",
       "      <td>campaign_quarters</td>\n",
       "      <td>fk_campaign_quarters</td>\n",
       "      <td>id</td>\n",
       "    </tr>\n",
       "    <tr>\n",
       "      <th>18</th>\n",
       "      <td>campaign_status_type_histories</td>\n",
       "      <td>fk_campaign_status_types</td>\n",
       "      <td>campaign_status_types</td>\n",
       "      <td>fk_campaign_status_types</td>\n",
       "      <td>id</td>\n",
       "    </tr>\n",
       "    <tr>\n",
       "      <th>17</th>\n",
       "      <td>campaign_quarters</td>\n",
       "      <td>fk_campaigns</td>\n",
       "      <td>campaigns</td>\n",
       "      <td>fk_campaigns</td>\n",
       "      <td>id</td>\n",
       "    </tr>\n",
       "  </tbody>\n",
       "</table>"
      ],
      "text/plain": [
       "<IPython.core.display.HTML object>"
      ]
     },
     "metadata": {},
     "output_type": "display_data"
    }
   ],
   "source": [
    "display(HTML(\n",
    "    df[df['fk_name'].notnull()][['TABLE_NAME','COLUMN_NAME','ref_table','for_columns','ref_columns']]\n",
    "    .sort_values('COLUMN_NAME')\n",
    "    .head(20)\n",
    "    .to_html()))"
   ]
  },
  {
   "cell_type": "code",
   "execution_count": null,
   "metadata": {
    "ExecuteTime": {
     "end_time": "2019-11-22T22:00:59.430548Z",
     "start_time": "2019-11-22T22:00:59.423904Z"
    }
   },
   "outputs": [],
   "source": [
    "# Mac RSA keys formating doesn't work with paramiko\n",
    "# The fix is to create a RSA key on linux and copy to the mac\n",
    "# You can test the key using ...\n",
    "import paramiko\n",
    "\n",
    "pkey='/Users/markgruenberg/keys/id_rsa'\n",
    "key=paramiko.RSAKey.from_private_key_file(pkey) "
   ]
  },
  {
   "cell_type": "code",
   "execution_count": null,
   "metadata": {
    "ExecuteTime": {
     "end_time": "2020-05-18T21:37:14.934464Z",
     "start_time": "2020-05-18T21:37:14.765518Z"
    },
    "scrolled": false
   },
   "outputs": [],
   "source": [
    "sql = \"\"\"select table_name,column_name,column_type,data_type,CHARACTER_MAXIMUM_LENGTH \n",
    "from information_schema.columns where table_schema='uweee'\"\"\"\n",
    "\n",
    "df = pd.read_sql(sql,cnx)\n",
    "\n",
    "display(HTML(\n",
    "    df[(df['DATA_TYPE']=='varchar') & \n",
    "       (df['CHARACTER_MAXIMUM_LENGTH'] > 60)][['TABLE_NAME','COLUMN_NAME','CHARACTER_MAXIMUM_LENGTH']]\\\n",
    "    .sort_values(by=['TABLE_NAME','CHARACTER_MAXIMUM_LENGTH'],ascending=[True,False])\\\n",
    "    .to_html()))\n"
   ]
  },
  {
   "cell_type": "code",
   "execution_count": null,
   "metadata": {},
   "outputs": [],
   "source": []
  }
 ],
 "metadata": {
  "kernelspec": {
   "display_name": "Python 2",
   "language": "python",
   "name": "python2"
  },
  "language_info": {
   "codemirror_mode": {
    "name": "ipython",
    "version": 2
   },
   "file_extension": ".py",
   "mimetype": "text/x-python",
   "name": "python",
   "nbconvert_exporter": "python",
   "pygments_lexer": "ipython2",
   "version": "2.7.17"
  },
  "toc": {
   "base_numbering": 1,
   "nav_menu": {},
   "number_sections": true,
   "sideBar": true,
   "skip_h1_title": false,
   "title_cell": "Table of Contents",
   "title_sidebar": "Contents",
   "toc_cell": false,
   "toc_position": {},
   "toc_section_display": true,
   "toc_window_display": false
  },
  "varInspector": {
   "cols": {
    "lenName": 16,
    "lenType": 16,
    "lenVar": 40
   },
   "kernels_config": {
    "python": {
     "delete_cmd_postfix": "",
     "delete_cmd_prefix": "del ",
     "library": "var_list.py",
     "varRefreshCmd": "print(var_dic_list())"
    },
    "r": {
     "delete_cmd_postfix": ") ",
     "delete_cmd_prefix": "rm(",
     "library": "var_list.r",
     "varRefreshCmd": "cat(var_dic_list()) "
    }
   },
   "types_to_exclude": [
    "module",
    "function",
    "builtin_function_or_method",
    "instance",
    "_Feature"
   ],
   "window_display": false
  }
 },
 "nbformat": 4,
 "nbformat_minor": 2
}
